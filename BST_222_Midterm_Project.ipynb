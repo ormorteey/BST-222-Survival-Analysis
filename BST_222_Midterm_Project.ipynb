{
  "nbformat": 4,
  "nbformat_minor": 0,
  "metadata": {
    "colab": {
      "name": "BST 222 Midterm Project.ipynb",
      "provenance": [],
      "authorship_tag": "ABX9TyOYYH5z0CALgls1wwW7J7Rs",
      "include_colab_link": true
    },
    "kernelspec": {
      "name": "ir",
      "display_name": "R"
    },
    "language_info": {
      "name": "R"
    }
  },
  "cells": [
    {
      "cell_type": "markdown",
      "metadata": {
        "id": "view-in-github",
        "colab_type": "text"
      },
      "source": [
        "<a href=\"https://colab.research.google.com/github/ormorteey/BST-222-Survival-Analysis/blob/main/BST_222_Midterm_Project.ipynb\" target=\"_parent\"><img src=\"https://colab.research.google.com/assets/colab-badge.svg\" alt=\"Open In Colab\"/></a>"
      ]
    },
    {
      "cell_type": "code",
      "metadata": {
        "id": "a5OfCR6tmhms",
        "colab": {
          "base_uri": "https://localhost:8080/"
        },
        "outputId": "30ca4fdc-62e1-41eb-b424-433584f19647"
      },
      "source": [
        "install.packages(\"pacman\")\n",
        "library(pacman)"
      ],
      "execution_count": 1,
      "outputs": [
        {
          "output_type": "stream",
          "name": "stderr",
          "text": [
            "Installing package into ‘/usr/local/lib/R/site-library’\n",
            "(as ‘lib’ is unspecified)\n",
            "\n"
          ]
        }
      ]
    },
    {
      "cell_type": "code",
      "metadata": {
        "colab": {
          "base_uri": "https://localhost:8080/"
        },
        "id": "xptMOX_Qn2Na",
        "outputId": "9f8a7b04-2666-4b67-b7ae-961aab49d35f"
      },
      "source": [
        "p_load(tidyverse, googledrive, KMsurv, survival, survminer, ggplot2)"
      ],
      "execution_count": null,
      "outputs": [
        {
          "output_type": "stream",
          "name": "stderr",
          "text": [
            "Installing package into ‘/usr/local/lib/R/site-library’\n",
            "(as ‘lib’ is unspecified)\n",
            "\n",
            "also installing the dependencies ‘listenv’, ‘parallelly’, ‘future’, ‘globals’, ‘future.apply’, ‘progressr’, ‘SQUAREM’, ‘lava’, ‘prodlim’, ‘proxy’, ‘iterators’, ‘gower’, ‘ipred’, ‘timeDate’, ‘e1071’, ‘foreach’, ‘ModelMetrics’, ‘plyr’, ‘pROC’, ‘recipes’, ‘reshape2’, ‘matrixStats’, ‘caret’, ‘RcppArmadillo’, ‘numDeriv’, ‘SparseM’, ‘MatrixModels’, ‘conquer’, ‘sp’, ‘openxlsx’, ‘minqa’, ‘nloptr’, ‘RcppEigen’, ‘carData’, ‘abind’, ‘pbkrtest’, ‘quantreg’, ‘maptools’, ‘rio’, ‘lme4’, ‘bitops’, ‘corrplot’, ‘car’, ‘markdown’, ‘RCurl’, ‘png’, ‘jpeg’, ‘ggrepel’, ‘ggsci’, ‘cowplot’, ‘ggsignif’, ‘polynom’, ‘rstatix’, ‘exactRankTests’, ‘mvtnorm’, ‘zoo’, ‘km.ci’, ‘xtable’, ‘gridtext’, ‘ggpubr’, ‘gridExtra’, ‘maxstat’, ‘survMisc’, ‘ggtext’\n",
            "\n",
            "\n"
          ]
        }
      ]
    },
    {
      "cell_type": "code",
      "metadata": {
        "id": "HgzNQjkgoB2z"
      },
      "source": [
        "require(KMsurv)\n",
        "require(survival)\n",
        "data(burn)\n",
        "burn1 <- burn\n",
        "burn1 <- data.frame(burn1,Treatment=factor(burn1$Z1,\n",
        "labels=c(\"Routine\",\"Cleansing\")))\n",
        "burn1 <- data.frame(burn1,Gender=factor(burn1$Z2,\n",
        "labels=c(\"Male\",\"Female\")))\n",
        "burn1 <- data.frame(burn1,Race=factor(burn1$Z3,\n",
        "labels=c(\"Nonwhite\",\"White\")))\n",
        "burn1 <- data.frame(burn1,PercentBurned=burn1$Z4)\n",
        "burn1 <- data.frame(burn1,SiteHead=factor(burn1$Z5,\n",
        "labels=c(\"NotBurned\",\"Burned\")))\n",
        "burn1 <- data.frame(burn1,SiteButtock=factor(burn1$Z6,\n",
        "labels=c(\"NotBurned\",\"Burned\")))\n",
        "burn1 <- data.frame(burn1,SiteTrunk=factor(burn1$Z7,\n",
        "labels=c(\"NotBurned\",\"Burned\")))"
      ],
      "execution_count": 4,
      "outputs": []
    },
    {
      "cell_type": "code",
      "metadata": {
        "id": "E_TkbTf9oN4N"
      },
      "source": [
        "burn1 <- data.frame(burn1,SiteUpperLeg=factor(burn1$Z8,\n",
        "labels=c(\"NotBurned\",\"Burned\")))\n",
        "burn1 <- data.frame(burn1,SiteLowerLeg=factor(burn1$Z9,\n",
        "labels=c(\"NotBurned\",\"Burned\")))\n",
        "burn1 <- data.frame(burn1,SiteRespTract=factor(burn1$Z10,\n",
        "labels=c(\"NotBurned\",\"Burned\")))\n",
        "burn1 <- data.frame(burn1,BurnType=factor(burn1$Z11,\n",
        "labels=c(\"Chemical\",\"Scald\",\"Electric\",\"Flame\")))\n",
        "burn1.surv <- with(burn1,Surv(T3,D3))\n",
        "plot(survfit(burn1.surv~Treatment,data=burn1),col=1:2,lwd=2)\n",
        "title(\"Time to Infection for Routine Care and Total Body Cleansing\")\n",
        "legend(\"topright\",c(\"Routine Care\",\"Total Body Cleansing\"),col=1:2,lwd=2)\n",
        "print(survdiff(burn1.surv~Treatment,data=burn1))\n"
      ],
      "execution_count": null,
      "outputs": []
    },
    {
      "cell_type": "code",
      "metadata": {
        "id": "5D_P6aZxr_7l"
      },
      "source": [
        "survdiff(formula = burn1.surv ~ Treatment, data = burn1)"
      ],
      "execution_count": null,
      "outputs": []
    }
  ]
}