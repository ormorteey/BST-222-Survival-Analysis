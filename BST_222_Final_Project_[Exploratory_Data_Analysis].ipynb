{
  "nbformat": 4,
  "nbformat_minor": 0,
  "metadata": {
    "colab": {
      "name": "BST 222 Final Project [Exploratory Data Analysis].ipynb",
      "provenance": [],
      "authorship_tag": "ABX9TyPqKf2Paeq/3TKJkoDL+wy/",
      "include_colab_link": true
    },
    "kernelspec": {
      "name": "ir",
      "display_name": "R"
    },
    "language_info": {
      "name": "R"
    }
  },
  "cells": [
    {
      "cell_type": "markdown",
      "metadata": {
        "id": "view-in-github",
        "colab_type": "text"
      },
      "source": [
        "<a href=\"https://colab.research.google.com/github/ormorteey/BST-222-Survival-Analysis/blob/main/BST_222_Final_Project_%5BExploratory_Data_Analysis%5D.ipynb\" target=\"_parent\"><img src=\"https://colab.research.google.com/assets/colab-badge.svg\" alt=\"Open In Colab\"/></a>"
      ]
    },
    {
      "cell_type": "code",
      "metadata": {
        "colab": {
          "base_uri": "https://localhost:8080/"
        },
        "id": "xJjTiShaHjrh",
        "outputId": "18697f9c-75a3-4e96-b314-57cb31486ec8"
      },
      "source": [
        "install.packages(\"pacman\")\n",
        "library(pacman)"
      ],
      "execution_count": null,
      "outputs": [
        {
          "output_type": "stream",
          "name": "stderr",
          "text": [
            "Installing package into ‘/usr/local/lib/R/site-library’\n",
            "(as ‘lib’ is unspecified)\n",
            "\n"
          ]
        }
      ]
    },
    {
      "cell_type": "code",
      "metadata": {
        "id": "vdWKdRulOcuf"
      },
      "source": [
        "\n",
        "# freq function\n",
        "\n",
        "freq = function(var, name = deparse(substitute(var))){\n",
        "tbl = table( var)\n",
        "freq_tbl = tbl %>% as.data.frame()\n",
        "prop_tbl = as.data.frame(prop.table(tbl) * 100) %>% as.data.frame() %>% select(Freq) %>% rename( Percentage = Freq)\n",
        "total = data.frame(var = \"Total\", Freq = sum(freq_tbl$Freq), Percentage = sum(prop_tbl$`% Freq`))\n",
        "df = cbind(freq_tbl, prop_tbl)\n",
        "colnames(total) = colnames(df)\n",
        "# df = rbind(df,total)\n",
        "xname = c(name, colnames(df)[2:length(colnames(df))])\n",
        "colnames(df) = xname\n",
        "  return(df)\n",
        "}\n",
        "\n",
        "# ctable function\n",
        "\n",
        "ctable_fn = function( x, y  ){\n",
        "\n",
        "tbl = table( x, y) %>% as.data.frame.matrix()\n",
        "prop_tbl = prop.table(tbl) \n",
        "tbl %<>% cbind(.,Total = rowSums(.)) %>% rbind(.,Total = colSums(.))\n",
        "prop_tbl %<>% cbind(.,Total = rowSums(.)) %>% rbind(.,Total = colSums(.))\n",
        "prop_tbl =  (prop_tbl * 100) %>% round(2)\n",
        "break_point = dim(tbl)[2]\n",
        "for(i in 1: dim(tbl)[2]){\n",
        "  tbl[,i] = paste0(tbl[,i], \" [ \" , prop_tbl[,i],  \"% ]\" )\n",
        "}\n",
        "return(tbl)\n",
        "\n",
        "}\n",
        "\n",
        "\n",
        "num_summary = function(df){\n",
        "\n",
        "  ## provide summary of the numerical variables\n",
        "res = df %>% \n",
        "  select_if(is.numeric) %>% \n",
        "  gather(variables, value)%>%\n",
        "  group_by(variables) %>%\n",
        "  summarise(Count = n(), Mean = mean(value, na.rm=TRUE), Min = quantile(value, 0, na.rm=TRUE), Q1 = quantile(value, 0.25, na.rm=TRUE), \n",
        "  Q2 = quantile(value, 0.5, na.rm=TRUE),  Q3 = quantile(value, 0.75, na.rm=TRUE), Max = quantile(value, 1, na.rm=TRUE),\n",
        "   Sd = sd(value, na.rm=TRUE), .groups = 'drop') \n",
        "\n",
        "return(res)\n",
        "}\n"
      ],
      "execution_count": null,
      "outputs": []
    },
    {
      "cell_type": "code",
      "metadata": {
        "id": "fz3VM9v8H2QR"
      },
      "source": [
        "# p_load(tidyverse, KMsurv, survminer, survival)\n",
        "p_load(tidyverse, KMsurv, survival)"
      ],
      "execution_count": null,
      "outputs": []
    },
    {
      "cell_type": "code",
      "metadata": {
        "colab": {
          "base_uri": "https://localhost:8080/",
          "height": 562
        },
        "id": "la-TYBlyLciW",
        "outputId": "55224782-660f-4233-ea41-72145234c956"
      },
      "source": [
        "\n",
        "pneumon_desc_vec = c(\n",
        "\"chldage\", \"Age child had pneumonia, months\",\n",
        "\"hospital\", \"Indicator for hospitalization for pneumonia (1=yes, 0=no)\",\n",
        "\"mthage\", \"Age of the mother, years\",\n",
        "\"urban\", \"Urban environment for mother (1=yes, 0=no)\",\n",
        "\"alcohol\", \"Alcohol use by mother during pregnancy (1=yes, 0=no)\",\n",
        "\"smoke\", \"Cigarette use by mother during pregnancy (1=yes, 0=no)\",\n",
        "\"region\", \"Region of the coutry (1=northeast, 2=north central, 3=south, 4=west)\",\n",
        "\"poverty\", \"Mother at poverty level (1=yes, 0=no)\",\n",
        "\"bweight\", \"Normal birthweight (>5.5 lbs.) (1=yes, 0=no)\",\n",
        "\"race\", \"Race of the mother (1=white, 2=black, 3=other)\",\n",
        "\"education\", \"Education of the mother, years of school\",\n",
        "\"nsibs\", \"Number of siblings of the child\",\n",
        "\"wmonth\", \"Month the child was weaned\",\n",
        "\"sfmonth\", \"Month the child on solid food\",\n",
        "\"agepn\", \"Age child in the hospital for pneumonia, months\")\n",
        "\n",
        "pneumon_desc_df = data.frame(Variable = pneumon_desc_vec[seq(1,length(pneumon_desc_vec), 2)], Properties = pneumon_desc_vec[seq(2,length(pneumon_desc_vec), 2)])\n",
        "pneumon_desc_df"
      ],
      "execution_count": null,
      "outputs": [
        {
          "output_type": "display_data",
          "data": {
            "text/plain": [
              "   Variable \n",
              "1  chldage  \n",
              "2  hospital \n",
              "3  mthage   \n",
              "4  urban    \n",
              "5  alcohol  \n",
              "6  smoke    \n",
              "7  region   \n",
              "8  poverty  \n",
              "9  bweight  \n",
              "10 race     \n",
              "11 education\n",
              "12 nsibs    \n",
              "13 wmonth   \n",
              "14 sfmonth  \n",
              "15 agepn    \n",
              "   Properties                                                          \n",
              "1  Age child had pneumonia, months                                     \n",
              "2  Indicator for hospitalization for pneumonia (1=yes, 0=no)           \n",
              "3  Age of the mother, years                                            \n",
              "4  Urban environment for mother (1=yes, 0=no)                          \n",
              "5  Alcohol use by mother during pregnancy (1=yes, 0=no)                \n",
              "6  Cigarette use by mother during pregnancy (1=yes, 0=no)              \n",
              "7  Region of the coutry (1=northeast, 2=north central, 3=south, 4=west)\n",
              "8  Mother at poverty level (1=yes, 0=no)                               \n",
              "9  Normal birthweight (>5.5 lbs.) (1=yes, 0=no)                        \n",
              "10 Race of the mother (1=white, 2=black, 3=other)                      \n",
              "11 Education of the mother, years of school                            \n",
              "12 Number of siblings of the child                                     \n",
              "13 Month the child was weaned                                          \n",
              "14 Month the child on solid food                                       \n",
              "15 Age child in the hospital for pneumonia, months                     "
            ],
            "text/latex": "A data.frame: 15 × 2\n\\begin{tabular}{ll}\n Variable & Properties\\\\\n <chr> & <chr>\\\\\n\\hline\n\t chldage   & Age child had pneumonia, months                                     \\\\\n\t hospital  & Indicator for hospitalization for pneumonia (1=yes, 0=no)           \\\\\n\t mthage    & Age of the mother, years                                            \\\\\n\t urban     & Urban environment for mother (1=yes, 0=no)                          \\\\\n\t alcohol   & Alcohol use by mother during pregnancy (1=yes, 0=no)                \\\\\n\t smoke     & Cigarette use by mother during pregnancy (1=yes, 0=no)              \\\\\n\t region    & Region of the coutry (1=northeast, 2=north central, 3=south, 4=west)\\\\\n\t poverty   & Mother at poverty level (1=yes, 0=no)                               \\\\\n\t bweight   & Normal birthweight (>5.5 lbs.) (1=yes, 0=no)                        \\\\\n\t race      & Race of the mother (1=white, 2=black, 3=other)                      \\\\\n\t education & Education of the mother, years of school                            \\\\\n\t nsibs     & Number of siblings of the child                                     \\\\\n\t wmonth    & Month the child was weaned                                          \\\\\n\t sfmonth   & Month the child on solid food                                       \\\\\n\t agepn     & Age child in the hospital for pneumonia, months                     \\\\\n\\end{tabular}\n",
            "text/markdown": "\nA data.frame: 15 × 2\n\n| Variable &lt;chr&gt; | Properties &lt;chr&gt; |\n|---|---|\n| chldage   | Age child had pneumonia, months                                      |\n| hospital  | Indicator for hospitalization for pneumonia (1=yes, 0=no)            |\n| mthage    | Age of the mother, years                                             |\n| urban     | Urban environment for mother (1=yes, 0=no)                           |\n| alcohol   | Alcohol use by mother during pregnancy (1=yes, 0=no)                 |\n| smoke     | Cigarette use by mother during pregnancy (1=yes, 0=no)               |\n| region    | Region of the coutry (1=northeast, 2=north central, 3=south, 4=west) |\n| poverty   | Mother at poverty level (1=yes, 0=no)                                |\n| bweight   | Normal birthweight (&gt;5.5 lbs.) (1=yes, 0=no)                         |\n| race      | Race of the mother (1=white, 2=black, 3=other)                       |\n| education | Education of the mother, years of school                             |\n| nsibs     | Number of siblings of the child                                      |\n| wmonth    | Month the child was weaned                                           |\n| sfmonth   | Month the child on solid food                                        |\n| agepn     | Age child in the hospital for pneumonia, months                      |\n\n",
            "text/html": [
              "<table class=\"dataframe\">\n",
              "<caption>A data.frame: 15 × 2</caption>\n",
              "<thead>\n",
              "\t<tr><th scope=col>Variable</th><th scope=col>Properties</th></tr>\n",
              "\t<tr><th scope=col>&lt;chr&gt;</th><th scope=col>&lt;chr&gt;</th></tr>\n",
              "</thead>\n",
              "<tbody>\n",
              "\t<tr><td>chldage  </td><td>Age child had pneumonia, months                                     </td></tr>\n",
              "\t<tr><td>hospital </td><td>Indicator for hospitalization for pneumonia (1=yes, 0=no)           </td></tr>\n",
              "\t<tr><td>mthage   </td><td>Age of the mother, years                                            </td></tr>\n",
              "\t<tr><td>urban    </td><td>Urban environment for mother (1=yes, 0=no)                          </td></tr>\n",
              "\t<tr><td>alcohol  </td><td>Alcohol use by mother during pregnancy (1=yes, 0=no)                </td></tr>\n",
              "\t<tr><td>smoke    </td><td>Cigarette use by mother during pregnancy (1=yes, 0=no)              </td></tr>\n",
              "\t<tr><td>region   </td><td>Region of the coutry (1=northeast, 2=north central, 3=south, 4=west)</td></tr>\n",
              "\t<tr><td>poverty  </td><td>Mother at poverty level (1=yes, 0=no)                               </td></tr>\n",
              "\t<tr><td><span style=white-space:pre-wrap>bweight  </span></td><td><span style=white-space:pre-wrap>Normal birthweight (&gt;5.5 lbs.) (1=yes, 0=no)                        </span></td></tr>\n",
              "\t<tr><td>race     </td><td>Race of the mother (1=white, 2=black, 3=other)                      </td></tr>\n",
              "\t<tr><td>education</td><td>Education of the mother, years of school                            </td></tr>\n",
              "\t<tr><td>nsibs    </td><td>Number of siblings of the child                                     </td></tr>\n",
              "\t<tr><td>wmonth   </td><td>Month the child was weaned                                          </td></tr>\n",
              "\t<tr><td>sfmonth  </td><td>Month the child on solid food                                       </td></tr>\n",
              "\t<tr><td>agepn    </td><td>Age child in the hospital for pneumonia, months                     </td></tr>\n",
              "</tbody>\n",
              "</table>\n"
            ]
          },
          "metadata": {}
        }
      ]
    },
    {
      "cell_type": "markdown",
      "metadata": {
        "id": "qqWDpPEhQ8pn"
      },
      "source": [
        "## **Q 8.1**"
      ]
    },
    {
      "cell_type": "code",
      "metadata": {
        "colab": {
          "base_uri": "https://localhost:8080/",
          "height": 303
        },
        "id": "1lJqMed1IE5l",
        "outputId": "9e7392f5-368e-4559-9a9b-519ae37f0974"
      },
      "source": [
        "data(pneumon)\n",
        "pneumon = pneumon\n",
        "head(pneumon)\n"
      ],
      "execution_count": null,
      "outputs": [
        {
          "output_type": "display_data",
          "data": {
            "text/plain": [
              "  chldage hospital mthage urban alcohol smoke region poverty bweight race\n",
              "1 12      0        22     1     0       0     1      1       1       1   \n",
              "2 12      0        20     1     1       0     1      1       0       1   \n",
              "3  3      0        24     1     3       0     1      1       0       1   \n",
              "4  2      0        22     1     2       2     1      1       0       1   \n",
              "5  4      0        21     1     1       2     1      1       1       1   \n",
              "6 12      0        20     1     0       0     1      1       0       1   \n",
              "  education nsibs wmonth sfmonth agepn\n",
              "1 10        1     1      1        1   \n",
              "2 12        1     2      2       12   \n",
              "3 12        2     1      0        3   \n",
              "4  9        0     0      0        2   \n",
              "5 12        0     0      0        4   \n",
              "6 12        0     0      0       12   "
            ],
            "text/latex": "A data.frame: 6 × 15\n\\begin{tabular}{r|lllllllllllllll}\n  & chldage & hospital & mthage & urban & alcohol & smoke & region & poverty & bweight & race & education & nsibs & wmonth & sfmonth & agepn\\\\\n  & <dbl> & <int> & <int> & <int> & <int> & <int> & <int> & <int> & <int> & <int> & <int> & <int> & <int> & <int> & <int>\\\\\n\\hline\n\t1 & 12 & 0 & 22 & 1 & 0 & 0 & 1 & 1 & 1 & 1 & 10 & 1 & 1 & 1 &  1\\\\\n\t2 & 12 & 0 & 20 & 1 & 1 & 0 & 1 & 1 & 0 & 1 & 12 & 1 & 2 & 2 & 12\\\\\n\t3 &  3 & 0 & 24 & 1 & 3 & 0 & 1 & 1 & 0 & 1 & 12 & 2 & 1 & 0 &  3\\\\\n\t4 &  2 & 0 & 22 & 1 & 2 & 2 & 1 & 1 & 0 & 1 &  9 & 0 & 0 & 0 &  2\\\\\n\t5 &  4 & 0 & 21 & 1 & 1 & 2 & 1 & 1 & 1 & 1 & 12 & 0 & 0 & 0 &  4\\\\\n\t6 & 12 & 0 & 20 & 1 & 0 & 0 & 1 & 1 & 0 & 1 & 12 & 0 & 0 & 0 & 12\\\\\n\\end{tabular}\n",
            "text/markdown": "\nA data.frame: 6 × 15\n\n| <!--/--> | chldage &lt;dbl&gt; | hospital &lt;int&gt; | mthage &lt;int&gt; | urban &lt;int&gt; | alcohol &lt;int&gt; | smoke &lt;int&gt; | region &lt;int&gt; | poverty &lt;int&gt; | bweight &lt;int&gt; | race &lt;int&gt; | education &lt;int&gt; | nsibs &lt;int&gt; | wmonth &lt;int&gt; | sfmonth &lt;int&gt; | agepn &lt;int&gt; |\n|---|---|---|---|---|---|---|---|---|---|---|---|---|---|---|---|\n| 1 | 12 | 0 | 22 | 1 | 0 | 0 | 1 | 1 | 1 | 1 | 10 | 1 | 1 | 1 |  1 |\n| 2 | 12 | 0 | 20 | 1 | 1 | 0 | 1 | 1 | 0 | 1 | 12 | 1 | 2 | 2 | 12 |\n| 3 |  3 | 0 | 24 | 1 | 3 | 0 | 1 | 1 | 0 | 1 | 12 | 2 | 1 | 0 |  3 |\n| 4 |  2 | 0 | 22 | 1 | 2 | 2 | 1 | 1 | 0 | 1 |  9 | 0 | 0 | 0 |  2 |\n| 5 |  4 | 0 | 21 | 1 | 1 | 2 | 1 | 1 | 1 | 1 | 12 | 0 | 0 | 0 |  4 |\n| 6 | 12 | 0 | 20 | 1 | 0 | 0 | 1 | 1 | 0 | 1 | 12 | 0 | 0 | 0 | 12 |\n\n",
            "text/html": [
              "<table class=\"dataframe\">\n",
              "<caption>A data.frame: 6 × 15</caption>\n",
              "<thead>\n",
              "\t<tr><th></th><th scope=col>chldage</th><th scope=col>hospital</th><th scope=col>mthage</th><th scope=col>urban</th><th scope=col>alcohol</th><th scope=col>smoke</th><th scope=col>region</th><th scope=col>poverty</th><th scope=col>bweight</th><th scope=col>race</th><th scope=col>education</th><th scope=col>nsibs</th><th scope=col>wmonth</th><th scope=col>sfmonth</th><th scope=col>agepn</th></tr>\n",
              "\t<tr><th></th><th scope=col>&lt;dbl&gt;</th><th scope=col>&lt;int&gt;</th><th scope=col>&lt;int&gt;</th><th scope=col>&lt;int&gt;</th><th scope=col>&lt;int&gt;</th><th scope=col>&lt;int&gt;</th><th scope=col>&lt;int&gt;</th><th scope=col>&lt;int&gt;</th><th scope=col>&lt;int&gt;</th><th scope=col>&lt;int&gt;</th><th scope=col>&lt;int&gt;</th><th scope=col>&lt;int&gt;</th><th scope=col>&lt;int&gt;</th><th scope=col>&lt;int&gt;</th><th scope=col>&lt;int&gt;</th></tr>\n",
              "</thead>\n",
              "<tbody>\n",
              "\t<tr><th scope=row>1</th><td>12</td><td>0</td><td>22</td><td>1</td><td>0</td><td>0</td><td>1</td><td>1</td><td>1</td><td>1</td><td>10</td><td>1</td><td>1</td><td>1</td><td> 1</td></tr>\n",
              "\t<tr><th scope=row>2</th><td>12</td><td>0</td><td>20</td><td>1</td><td>1</td><td>0</td><td>1</td><td>1</td><td>0</td><td>1</td><td>12</td><td>1</td><td>2</td><td>2</td><td>12</td></tr>\n",
              "\t<tr><th scope=row>3</th><td> 3</td><td>0</td><td>24</td><td>1</td><td>3</td><td>0</td><td>1</td><td>1</td><td>0</td><td>1</td><td>12</td><td>2</td><td>1</td><td>0</td><td> 3</td></tr>\n",
              "\t<tr><th scope=row>4</th><td> 2</td><td>0</td><td>22</td><td>1</td><td>2</td><td>2</td><td>1</td><td>1</td><td>0</td><td>1</td><td> 9</td><td>0</td><td>0</td><td>0</td><td> 2</td></tr>\n",
              "\t<tr><th scope=row>5</th><td> 4</td><td>0</td><td>21</td><td>1</td><td>1</td><td>2</td><td>1</td><td>1</td><td>1</td><td>1</td><td>12</td><td>0</td><td>0</td><td>0</td><td> 4</td></tr>\n",
              "\t<tr><th scope=row>6</th><td>12</td><td>0</td><td>20</td><td>1</td><td>0</td><td>0</td><td>1</td><td>1</td><td>0</td><td>1</td><td>12</td><td>0</td><td>0</td><td>0</td><td>12</td></tr>\n",
              "</tbody>\n",
              "</table>\n"
            ]
          },
          "metadata": {}
        }
      ]
    },
    {
      "cell_type": "code",
      "metadata": {
        "colab": {
          "base_uri": "https://localhost:8080/",
          "height": 471
        },
        "id": "brLVOFoJM9vT",
        "outputId": "fd8be894-e1e7-4a2b-c4fd-495f16874fab"
      },
      "source": [
        "pneumon %>% ggplot(aes(x = chldage)) +\n",
        "geom_histogram( size = 5, alpha = 0.2, fill = \"blue\")+\n",
        "            theme_minimal(base_size = 18)+\n",
        "            labs(x = \"Child Age\", title = \"Age child had pneumonia (months)\") +\n",
        "  theme_bw() +\n",
        "  theme(panel.grid.major = element_blank(), panel.grid.minor = element_blank())+\n",
        "  theme(legend.text=element_text(size=12 ,face=\"bold\"), legend.title=element_text(size=12 ,face=\"bold\"), axis.text=element_text(size=12 ,face=\"bold\"),\n",
        "        axis.title=element_text(size=14,face=\"bold\"))\n",
        "\n"
      ],
      "execution_count": null,
      "outputs": [
        {
          "output_type": "stream",
          "name": "stderr",
          "text": [
            "`stat_bin()` using `bins = 30`. Pick better value with `binwidth`.\n",
            "\n"
          ]
        },
        {
          "output_type": "display_data",
          "data": {
            "image/png": "[encoded data removed]",
            "text/plain": [
              "plot without title"
            ]
          },
          "metadata": {
            "image/png": {
              "width": 420,
              "height": 420
            }
          }
        }
      ]
    },
    {
      "cell_type": "code",
      "metadata": {
        "id": "gMr82m7PUt3z"
      },
      "source": [
        "pneumon$education_cat = cut(pneumon$education, c(0,12, 16, 18, max(pneumon$education)) )\n",
        "var_to_factor = c(\"hospital\",\t\"urban\"\t,\"alcohol\"\t,\"smoke\",\t\"region\"\t,\"poverty\",\t\"race\",\t\"education_cat\",\t\"nsibs\"\t)\n",
        "pneumon[,var_to_factor] = lapply(pneumon[,var_to_factor], as.factor)"
      ],
      "execution_count": null,
      "outputs": []
    },
    {
      "cell_type": "code",
      "metadata": {
        "colab": {
          "base_uri": "https://localhost:8080/",
          "height": 1000
        },
        "id": "-ikfvDlGN154",
        "outputId": "57d9bb37-0e61-48a1-f3c3-683b1ba7d15f"
      },
      "source": [
        "pneumon  %>% select_if(is.factor) %>% map(~with(pneumon,ctable_fn(., pneumon$hospital))) "
      ],
      "execution_count": null,
      "outputs": [
        {
          "output_type": "display_data",
          "data": {
            "text/plain": [
              "$hospital\n",
              "                   0           1          Total\n",
              "0     3397 [ 97.9% ]    0 [ 0% ] 3397 [ 97.9% ]\n",
              "1           0 [ 0% ] 73 [ 2.1% ]    73 [ 2.1% ]\n",
              "Total 3397 [ 97.9% ] 73 [ 2.1% ]  3470 [ 100% ]\n",
              "\n",
              "$urban\n",
              "                    0            1           Total\n",
              "0      807 [ 23.26% ] 24 [ 0.69% ]  831 [ 23.95% ]\n",
              "1     2590 [ 74.64% ] 49 [ 1.41% ] 2639 [ 76.05% ]\n",
              "Total  3397 [ 97.9% ]  73 [ 2.1% ]   3470 [ 100% ]\n",
              "\n",
              "$alcohol\n",
              "                    0            1           Total\n",
              "0     2181 [ 62.85% ] 48 [ 1.38% ] 2229 [ 64.24% ]\n",
              "1      612 [ 17.64% ]  14 [ 0.4% ]  626 [ 18.04% ]\n",
              "2       296 [ 8.53% ]  5 [ 0.14% ]   301 [ 8.67% ]\n",
              "3       175 [ 5.04% ]  3 [ 0.09% ]   178 [ 5.13% ]\n",
              "4       133 [ 3.83% ]  3 [ 0.09% ]   136 [ 3.92% ]\n",
              "Total  3397 [ 97.9% ]  73 [ 2.1% ]   3470 [ 100% ]\n",
              "\n",
              "$smoke\n",
              "                    0            1           Total\n",
              "0     2251 [ 64.87% ] 34 [ 0.98% ] 2285 [ 65.85% ]\n",
              "1      810 [ 23.34% ] 28 [ 0.81% ]  838 [ 24.15% ]\n",
              "2       336 [ 9.68% ] 11 [ 0.32% ]     347 [ 10% ]\n",
              "Total  3397 [ 97.9% ]  73 [ 2.1% ]   3470 [ 100% ]\n",
              "\n",
              "$region\n",
              "                    0            1           Total\n",
              "1      504 [ 14.52% ] 13 [ 0.37% ]   517 [ 14.9% ]\n",
              "2      843 [ 24.29% ] 25 [ 0.72% ]  868 [ 25.01% ]\n",
              "3     1370 [ 39.48% ] 26 [ 0.75% ] 1396 [ 40.23% ]\n",
              "4       680 [ 19.6% ]  9 [ 0.26% ]  689 [ 19.86% ]\n",
              "Total  3397 [ 97.9% ]  73 [ 2.1% ]   3470 [ 100% ]\n",
              "\n",
              "$poverty\n",
              "                    0           1           Total\n",
              "0       263 [ 7.58% ]  7 [ 0.2% ]   270 [ 7.78% ]\n",
              "1     3134 [ 90.32% ] 66 [ 1.9% ] 3200 [ 92.22% ]\n",
              "Total  3397 [ 97.9% ] 73 [ 2.1% ]   3470 [ 100% ]\n",
              "\n",
              "$race\n",
              "                   0            1           Total\n",
              "1     1891 [ 54.5% ] 42 [ 1.21% ] 1933 [ 55.71% ]\n",
              "2     939 [ 27.06% ] 18 [ 0.52% ]  957 [ 27.58% ]\n",
              "3     567 [ 16.34% ] 13 [ 0.37% ]  580 [ 16.71% ]\n",
              "Total 3397 [ 97.9% ]  73 [ 2.1% ]   3470 [ 100% ]\n",
              "\n",
              "$nsibs\n",
              "                    0            1           Total\n",
              "0     1774 [ 51.12% ] 27 [ 0.78% ]  1801 [ 51.9% ]\n",
              "1     1126 [ 32.45% ] 30 [ 0.86% ] 1156 [ 33.31% ]\n",
              "2      372 [ 10.72% ] 11 [ 0.32% ]  383 [ 11.04% ]\n",
              "3         97 [ 2.8% ]  3 [ 0.09% ]   100 [ 2.88% ]\n",
              "4        20 [ 0.58% ]  2 [ 0.06% ]    22 [ 0.63% ]\n",
              "5          7 [ 0.2% ]     0 [ 0% ]      7 [ 0.2% ]\n",
              "6         1 [ 0.03% ]     0 [ 0% ]     1 [ 0.03% ]\n",
              "Total  3397 [ 97.9% ]  73 [ 2.1% ]   3470 [ 100% ]\n",
              "\n",
              "$education_cat\n",
              "                      0            1           Total\n",
              "(0,12]  2779 [ 80.11% ] 70 [ 2.02% ] 2849 [ 82.13% ]\n",
              "(12,16]   600 [ 17.3% ]  3 [ 0.09% ]  603 [ 17.38% ]\n",
              "(16,18]     14 [ 0.4% ]     0 [ 0% ]     14 [ 0.4% ]\n",
              "(18,19]     3 [ 0.09% ]     0 [ 0% ]     3 [ 0.09% ]\n",
              "Total    3396 [ 97.9% ]  73 [ 2.1% ]   3469 [ 100% ]\n"
            ],
            "text/latex": "\\begin{description}\n\\item[\\$hospital] A data.frame: 3 × 3\n\\begin{tabular}{r|lll}\n  & 0 & 1 & Total\\\\\n  & <chr> & <chr> & <chr>\\\\\n\\hline\n\t0 & 3397 {[} 97.9\\% {]} & 0 {[} 0\\% {]}    & 3397 {[} 97.9\\% {]}\\\\\n\t1 & 0 {[} 0\\% {]}       & 73 {[} 2.1\\% {]} & 73 {[} 2.1\\% {]}   \\\\\n\tTotal & 3397 {[} 97.9\\% {]} & 73 {[} 2.1\\% {]} & 3470 {[} 100\\% {]} \\\\\n\\end{tabular}\n\n\\item[\\$urban] A data.frame: 3 × 3\n\\begin{tabular}{r|lll}\n  & 0 & 1 & Total\\\\\n  & <chr> & <chr> & <chr>\\\\\n\\hline\n\t0 & 807 {[} 23.26\\% {]}  & 24 {[} 0.69\\% {]} & 831 {[} 23.95\\% {]} \\\\\n\t1 & 2590 {[} 74.64\\% {]} & 49 {[} 1.41\\% {]} & 2639 {[} 76.05\\% {]}\\\\\n\tTotal & 3397 {[} 97.9\\% {]}  & 73 {[} 2.1\\% {]}  & 3470 {[} 100\\% {]}  \\\\\n\\end{tabular}\n\n\\item[\\$alcohol] A data.frame: 6 × 3\n\\begin{tabular}{r|lll}\n  & 0 & 1 & Total\\\\\n  & <chr> & <chr> & <chr>\\\\\n\\hline\n\t0 & 2181 {[} 62.85\\% {]} & 48 {[} 1.38\\% {]} & 2229 {[} 64.24\\% {]}\\\\\n\t1 & 612 {[} 17.64\\% {]}  & 14 {[} 0.4\\% {]}  & 626 {[} 18.04\\% {]} \\\\\n\t2 & 296 {[} 8.53\\% {]}   & 5 {[} 0.14\\% {]}  & 301 {[} 8.67\\% {]}  \\\\\n\t3 & 175 {[} 5.04\\% {]}   & 3 {[} 0.09\\% {]}  & 178 {[} 5.13\\% {]}  \\\\\n\t4 & 133 {[} 3.83\\% {]}   & 3 {[} 0.09\\% {]}  & 136 {[} 3.92\\% {]}  \\\\\n\tTotal & 3397 {[} 97.9\\% {]}  & 73 {[} 2.1\\% {]}  & 3470 {[} 100\\% {]}  \\\\\n\\end{tabular}\n\n\\item[\\$smoke] A data.frame: 4 × 3\n\\begin{tabular}{r|lll}\n  & 0 & 1 & Total\\\\\n  & <chr> & <chr> & <chr>\\\\\n\\hline\n\t0 & 2251 {[} 64.87\\% {]} & 34 {[} 0.98\\% {]} & 2285 {[} 65.85\\% {]}\\\\\n\t1 & 810 {[} 23.34\\% {]}  & 28 {[} 0.81\\% {]} & 838 {[} 24.15\\% {]} \\\\\n\t2 & 336 {[} 9.68\\% {]}   & 11 {[} 0.32\\% {]} & 347 {[} 10\\% {]}    \\\\\n\tTotal & 3397 {[} 97.9\\% {]}  & 73 {[} 2.1\\% {]}  & 3470 {[} 100\\% {]}  \\\\\n\\end{tabular}\n\n\\item[\\$region] A data.frame: 5 × 3\n\\begin{tabular}{r|lll}\n  & 0 & 1 & Total\\\\\n  & <chr> & <chr> & <chr>\\\\\n\\hline\n\t1 & 504 {[} 14.52\\% {]}  & 13 {[} 0.37\\% {]} & 517 {[} 14.9\\% {]}  \\\\\n\t2 & 843 {[} 24.29\\% {]}  & 25 {[} 0.72\\% {]} & 868 {[} 25.01\\% {]} \\\\\n\t3 & 1370 {[} 39.48\\% {]} & 26 {[} 0.75\\% {]} & 1396 {[} 40.23\\% {]}\\\\\n\t4 & 680 {[} 19.6\\% {]}   & 9 {[} 0.26\\% {]}  & 689 {[} 19.86\\% {]} \\\\\n\tTotal & 3397 {[} 97.9\\% {]}  & 73 {[} 2.1\\% {]}  & 3470 {[} 100\\% {]}  \\\\\n\\end{tabular}\n\n\\item[\\$poverty] A data.frame: 3 × 3\n\\begin{tabular}{r|lll}\n  & 0 & 1 & Total\\\\\n  & <chr> & <chr> & <chr>\\\\\n\\hline\n\t0 & 263 {[} 7.58\\% {]}   & 7 {[} 0.2\\% {]}  & 270 {[} 7.78\\% {]}  \\\\\n\t1 & 3134 {[} 90.32\\% {]} & 66 {[} 1.9\\% {]} & 3200 {[} 92.22\\% {]}\\\\\n\tTotal & 3397 {[} 97.9\\% {]}  & 73 {[} 2.1\\% {]} & 3470 {[} 100\\% {]}  \\\\\n\\end{tabular}\n\n\\item[\\$race] A data.frame: 4 × 3\n\\begin{tabular}{r|lll}\n  & 0 & 1 & Total\\\\\n  & <chr> & <chr> & <chr>\\\\\n\\hline\n\t1 & 1891 {[} 54.5\\% {]} & 42 {[} 1.21\\% {]} & 1933 {[} 55.71\\% {]}\\\\\n\t2 & 939 {[} 27.06\\% {]} & 18 {[} 0.52\\% {]} & 957 {[} 27.58\\% {]} \\\\\n\t3 & 567 {[} 16.34\\% {]} & 13 {[} 0.37\\% {]} & 580 {[} 16.71\\% {]} \\\\\n\tTotal & 3397 {[} 97.9\\% {]} & 73 {[} 2.1\\% {]}  & 3470 {[} 100\\% {]}  \\\\\n\\end{tabular}\n\n\\item[\\$nsibs] A data.frame: 8 × 3\n\\begin{tabular}{r|lll}\n  & 0 & 1 & Total\\\\\n  & <chr> & <chr> & <chr>\\\\\n\\hline\n\t0 & 1774 {[} 51.12\\% {]} & 27 {[} 0.78\\% {]} & 1801 {[} 51.9\\% {]} \\\\\n\t1 & 1126 {[} 32.45\\% {]} & 30 {[} 0.86\\% {]} & 1156 {[} 33.31\\% {]}\\\\\n\t2 & 372 {[} 10.72\\% {]}  & 11 {[} 0.32\\% {]} & 383 {[} 11.04\\% {]} \\\\\n\t3 & 97 {[} 2.8\\% {]}     & 3 {[} 0.09\\% {]}  & 100 {[} 2.88\\% {]}  \\\\\n\t4 & 20 {[} 0.58\\% {]}    & 2 {[} 0.06\\% {]}  & 22 {[} 0.63\\% {]}   \\\\\n\t5 & 7 {[} 0.2\\% {]}      & 0 {[} 0\\% {]}     & 7 {[} 0.2\\% {]}     \\\\\n\t6 & 1 {[} 0.03\\% {]}     & 0 {[} 0\\% {]}     & 1 {[} 0.03\\% {]}    \\\\\n\tTotal & 3397 {[} 97.9\\% {]}  & 73 {[} 2.1\\% {]}  & 3470 {[} 100\\% {]}  \\\\\n\\end{tabular}\n\n\\item[\\$education\\_cat] A data.frame: 5 × 3\n\\begin{tabular}{r|lll}\n  & 0 & 1 & Total\\\\\n  & <chr> & <chr> & <chr>\\\\\n\\hline\n\t(0,12{]} & 2779 {[} 80.11\\% {]} & 70 {[} 2.02\\% {]} & 2849 {[} 82.13\\% {]}\\\\\n\t(12,16{]} & 600 {[} 17.3\\% {]}   & 3 {[} 0.09\\% {]}  & 603 {[} 17.38\\% {]} \\\\\n\t(16,18{]} & 14 {[} 0.4\\% {]}     & 0 {[} 0\\% {]}     & 14 {[} 0.4\\% {]}    \\\\\n\t(18,19{]} & 3 {[} 0.09\\% {]}     & 0 {[} 0\\% {]}     & 3 {[} 0.09\\% {]}    \\\\\n\tTotal & 3396 {[} 97.9\\% {]}  & 73 {[} 2.1\\% {]}  & 3469 {[} 100\\% {]}  \\\\\n\\end{tabular}\n\n\\end{description}\n",
            "text/markdown": "$hospital\n:   \nA data.frame: 3 × 3\n\n| <!--/--> | 0 &lt;chr&gt; | 1 &lt;chr&gt; | Total &lt;chr&gt; |\n|---|---|---|---|\n| 0 | 3397 [ 97.9% ] | 0 [ 0% ]    | 3397 [ 97.9% ] |\n| 1 | 0 [ 0% ]       | 73 [ 2.1% ] | 73 [ 2.1% ]    |\n| Total | 3397 [ 97.9% ] | 73 [ 2.1% ] | 3470 [ 100% ]  |\n\n\n$urban\n:   \nA data.frame: 3 × 3\n\n| <!--/--> | 0 &lt;chr&gt; | 1 &lt;chr&gt; | Total &lt;chr&gt; |\n|---|---|---|---|\n| 0 | 807 [ 23.26% ]  | 24 [ 0.69% ] | 831 [ 23.95% ]  |\n| 1 | 2590 [ 74.64% ] | 49 [ 1.41% ] | 2639 [ 76.05% ] |\n| Total | 3397 [ 97.9% ]  | 73 [ 2.1% ]  | 3470 [ 100% ]   |\n\n\n$alcohol\n:   \nA data.frame: 6 × 3\n\n| <!--/--> | 0 &lt;chr&gt; | 1 &lt;chr&gt; | Total &lt;chr&gt; |\n|---|---|---|---|\n| 0 | 2181 [ 62.85% ] | 48 [ 1.38% ] | 2229 [ 64.24% ] |\n| 1 | 612 [ 17.64% ]  | 14 [ 0.4% ]  | 626 [ 18.04% ]  |\n| 2 | 296 [ 8.53% ]   | 5 [ 0.14% ]  | 301 [ 8.67% ]   |\n| 3 | 175 [ 5.04% ]   | 3 [ 0.09% ]  | 178 [ 5.13% ]   |\n| 4 | 133 [ 3.83% ]   | 3 [ 0.09% ]  | 136 [ 3.92% ]   |\n| Total | 3397 [ 97.9% ]  | 73 [ 2.1% ]  | 3470 [ 100% ]   |\n\n\n$smoke\n:   \nA data.frame: 4 × 3\n\n| <!--/--> | 0 &lt;chr&gt; | 1 &lt;chr&gt; | Total &lt;chr&gt; |\n|---|---|---|---|\n| 0 | 2251 [ 64.87% ] | 34 [ 0.98% ] | 2285 [ 65.85% ] |\n| 1 | 810 [ 23.34% ]  | 28 [ 0.81% ] | 838 [ 24.15% ]  |\n| 2 | 336 [ 9.68% ]   | 11 [ 0.32% ] | 347 [ 10% ]     |\n| Total | 3397 [ 97.9% ]  | 73 [ 2.1% ]  | 3470 [ 100% ]   |\n\n\n$region\n:   \nA data.frame: 5 × 3\n\n| <!--/--> | 0 &lt;chr&gt; | 1 &lt;chr&gt; | Total &lt;chr&gt; |\n|---|---|---|---|\n| 1 | 504 [ 14.52% ]  | 13 [ 0.37% ] | 517 [ 14.9% ]   |\n| 2 | 843 [ 24.29% ]  | 25 [ 0.72% ] | 868 [ 25.01% ]  |\n| 3 | 1370 [ 39.48% ] | 26 [ 0.75% ] | 1396 [ 40.23% ] |\n| 4 | 680 [ 19.6% ]   | 9 [ 0.26% ]  | 689 [ 19.86% ]  |\n| Total | 3397 [ 97.9% ]  | 73 [ 2.1% ]  | 3470 [ 100% ]   |\n\n\n$poverty\n:   \nA data.frame: 3 × 3\n\n| <!--/--> | 0 &lt;chr&gt; | 1 &lt;chr&gt; | Total &lt;chr&gt; |\n|---|---|---|---|\n| 0 | 263 [ 7.58% ]   | 7 [ 0.2% ]  | 270 [ 7.78% ]   |\n| 1 | 3134 [ 90.32% ] | 66 [ 1.9% ] | 3200 [ 92.22% ] |\n| Total | 3397 [ 97.9% ]  | 73 [ 2.1% ] | 3470 [ 100% ]   |\n\n\n$race\n:   \nA data.frame: 4 × 3\n\n| <!--/--> | 0 &lt;chr&gt; | 1 &lt;chr&gt; | Total &lt;chr&gt; |\n|---|---|---|---|\n| 1 | 1891 [ 54.5% ] | 42 [ 1.21% ] | 1933 [ 55.71% ] |\n| 2 | 939 [ 27.06% ] | 18 [ 0.52% ] | 957 [ 27.58% ]  |\n| 3 | 567 [ 16.34% ] | 13 [ 0.37% ] | 580 [ 16.71% ]  |\n| Total | 3397 [ 97.9% ] | 73 [ 2.1% ]  | 3470 [ 100% ]   |\n\n\n$nsibs\n:   \nA data.frame: 8 × 3\n\n| <!--/--> | 0 &lt;chr&gt; | 1 &lt;chr&gt; | Total &lt;chr&gt; |\n|---|---|---|---|\n| 0 | 1774 [ 51.12% ] | 27 [ 0.78% ] | 1801 [ 51.9% ]  |\n| 1 | 1126 [ 32.45% ] | 30 [ 0.86% ] | 1156 [ 33.31% ] |\n| 2 | 372 [ 10.72% ]  | 11 [ 0.32% ] | 383 [ 11.04% ]  |\n| 3 | 97 [ 2.8% ]     | 3 [ 0.09% ]  | 100 [ 2.88% ]   |\n| 4 | 20 [ 0.58% ]    | 2 [ 0.06% ]  | 22 [ 0.63% ]    |\n| 5 | 7 [ 0.2% ]      | 0 [ 0% ]     | 7 [ 0.2% ]      |\n| 6 | 1 [ 0.03% ]     | 0 [ 0% ]     | 1 [ 0.03% ]     |\n| Total | 3397 [ 97.9% ]  | 73 [ 2.1% ]  | 3470 [ 100% ]   |\n\n\n$education_cat\n:   \nA data.frame: 5 × 3\n\n| <!--/--> | 0 &lt;chr&gt; | 1 &lt;chr&gt; | Total &lt;chr&gt; |\n|---|---|---|---|\n| (0,12] | 2779 [ 80.11% ] | 70 [ 2.02% ] | 2849 [ 82.13% ] |\n| (12,16] | 600 [ 17.3% ]   | 3 [ 0.09% ]  | 603 [ 17.38% ]  |\n| (16,18] | 14 [ 0.4% ]     | 0 [ 0% ]     | 14 [ 0.4% ]     |\n| (18,19] | 3 [ 0.09% ]     | 0 [ 0% ]     | 3 [ 0.09% ]     |\n| Total | 3396 [ 97.9% ]  | 73 [ 2.1% ]  | 3469 [ 100% ]   |\n\n\n\n\n",
            "text/html": [
              "<dl>\n",
              "\t<dt>$hospital</dt>\n",
              "\t\t<dd><table class=\"dataframe\">\n",
              "<caption>A data.frame: 3 × 3</caption>\n",
              "<thead>\n",
              "\t<tr><th></th><th scope=col>0</th><th scope=col>1</th><th scope=col>Total</th></tr>\n",
              "\t<tr><th></th><th scope=col>&lt;chr&gt;</th><th scope=col>&lt;chr&gt;</th><th scope=col>&lt;chr&gt;</th></tr>\n",
              "</thead>\n",
              "<tbody>\n",
              "\t<tr><th scope=row>0</th><td>3397 [ 97.9% ]</td><td>0 [ 0% ]   </td><td>3397 [ 97.9% ]</td></tr>\n",
              "\t<tr><th scope=row>1</th><td>0 [ 0% ]      </td><td>73 [ 2.1% ]</td><td>73 [ 2.1% ]   </td></tr>\n",
              "\t<tr><th scope=row>Total</th><td>3397 [ 97.9% ]</td><td>73 [ 2.1% ]</td><td>3470 [ 100% ] </td></tr>\n",
              "</tbody>\n",
              "</table>\n",
              "</dd>\n",
              "\t<dt>$urban</dt>\n",
              "\t\t<dd><table class=\"dataframe\">\n",
              "<caption>A data.frame: 3 × 3</caption>\n",
              "<thead>\n",
              "\t<tr><th></th><th scope=col>0</th><th scope=col>1</th><th scope=col>Total</th></tr>\n",
              "\t<tr><th></th><th scope=col>&lt;chr&gt;</th><th scope=col>&lt;chr&gt;</th><th scope=col>&lt;chr&gt;</th></tr>\n",
              "</thead>\n",
              "<tbody>\n",
              "\t<tr><th scope=row>0</th><td>807 [ 23.26% ] </td><td>24 [ 0.69% ]</td><td>831 [ 23.95% ] </td></tr>\n",
              "\t<tr><th scope=row>1</th><td>2590 [ 74.64% ]</td><td>49 [ 1.41% ]</td><td>2639 [ 76.05% ]</td></tr>\n",
              "\t<tr><th scope=row>Total</th><td>3397 [ 97.9% ] </td><td>73 [ 2.1% ] </td><td>3470 [ 100% ]  </td></tr>\n",
              "</tbody>\n",
              "</table>\n",
              "</dd>\n",
              "\t<dt>$alcohol</dt>\n",
              "\t\t<dd><table class=\"dataframe\">\n",
              "<caption>A data.frame: 6 × 3</caption>\n",
              "<thead>\n",
              "\t<tr><th></th><th scope=col>0</th><th scope=col>1</th><th scope=col>Total</th></tr>\n",
              "\t<tr><th></th><th scope=col>&lt;chr&gt;</th><th scope=col>&lt;chr&gt;</th><th scope=col>&lt;chr&gt;</th></tr>\n",
              "</thead>\n",
              "<tbody>\n",
              "\t<tr><th scope=row>0</th><td>2181 [ 62.85% ]</td><td>48 [ 1.38% ]</td><td>2229 [ 64.24% ]</td></tr>\n",
              "\t<tr><th scope=row>1</th><td>612 [ 17.64% ] </td><td>14 [ 0.4% ] </td><td>626 [ 18.04% ] </td></tr>\n",
              "\t<tr><th scope=row>2</th><td>296 [ 8.53% ]  </td><td>5 [ 0.14% ] </td><td>301 [ 8.67% ]  </td></tr>\n",
              "\t<tr><th scope=row>3</th><td>175 [ 5.04% ]  </td><td>3 [ 0.09% ] </td><td>178 [ 5.13% ]  </td></tr>\n",
              "\t<tr><th scope=row>4</th><td>133 [ 3.83% ]  </td><td>3 [ 0.09% ] </td><td>136 [ 3.92% ]  </td></tr>\n",
              "\t<tr><th scope=row>Total</th><td>3397 [ 97.9% ] </td><td>73 [ 2.1% ] </td><td>3470 [ 100% ]  </td></tr>\n",
              "</tbody>\n",
              "</table>\n",
              "</dd>\n",
              "\t<dt>$smoke</dt>\n",
              "\t\t<dd><table class=\"dataframe\">\n",
              "<caption>A data.frame: 4 × 3</caption>\n",
              "<thead>\n",
              "\t<tr><th></th><th scope=col>0</th><th scope=col>1</th><th scope=col>Total</th></tr>\n",
              "\t<tr><th></th><th scope=col>&lt;chr&gt;</th><th scope=col>&lt;chr&gt;</th><th scope=col>&lt;chr&gt;</th></tr>\n",
              "</thead>\n",
              "<tbody>\n",
              "\t<tr><th scope=row>0</th><td>2251 [ 64.87% ]</td><td>34 [ 0.98% ]</td><td>2285 [ 65.85% ]</td></tr>\n",
              "\t<tr><th scope=row>1</th><td>810 [ 23.34% ] </td><td>28 [ 0.81% ]</td><td>838 [ 24.15% ] </td></tr>\n",
              "\t<tr><th scope=row>2</th><td>336 [ 9.68% ]  </td><td>11 [ 0.32% ]</td><td>347 [ 10% ]    </td></tr>\n",
              "\t<tr><th scope=row>Total</th><td>3397 [ 97.9% ] </td><td>73 [ 2.1% ] </td><td>3470 [ 100% ]  </td></tr>\n",
              "</tbody>\n",
              "</table>\n",
              "</dd>\n",
              "\t<dt>$region</dt>\n",
              "\t\t<dd><table class=\"dataframe\">\n",
              "<caption>A data.frame: 5 × 3</caption>\n",
              "<thead>\n",
              "\t<tr><th></th><th scope=col>0</th><th scope=col>1</th><th scope=col>Total</th></tr>\n",
              "\t<tr><th></th><th scope=col>&lt;chr&gt;</th><th scope=col>&lt;chr&gt;</th><th scope=col>&lt;chr&gt;</th></tr>\n",
              "</thead>\n",
              "<tbody>\n",
              "\t<tr><th scope=row>1</th><td>504 [ 14.52% ] </td><td>13 [ 0.37% ]</td><td>517 [ 14.9% ]  </td></tr>\n",
              "\t<tr><th scope=row>2</th><td>843 [ 24.29% ] </td><td>25 [ 0.72% ]</td><td>868 [ 25.01% ] </td></tr>\n",
              "\t<tr><th scope=row>3</th><td>1370 [ 39.48% ]</td><td>26 [ 0.75% ]</td><td>1396 [ 40.23% ]</td></tr>\n",
              "\t<tr><th scope=row>4</th><td>680 [ 19.6% ]  </td><td>9 [ 0.26% ] </td><td>689 [ 19.86% ] </td></tr>\n",
              "\t<tr><th scope=row>Total</th><td>3397 [ 97.9% ] </td><td>73 [ 2.1% ] </td><td>3470 [ 100% ]  </td></tr>\n",
              "</tbody>\n",
              "</table>\n",
              "</dd>\n",
              "\t<dt>$poverty</dt>\n",
              "\t\t<dd><table class=\"dataframe\">\n",
              "<caption>A data.frame: 3 × 3</caption>\n",
              "<thead>\n",
              "\t<tr><th></th><th scope=col>0</th><th scope=col>1</th><th scope=col>Total</th></tr>\n",
              "\t<tr><th></th><th scope=col>&lt;chr&gt;</th><th scope=col>&lt;chr&gt;</th><th scope=col>&lt;chr&gt;</th></tr>\n",
              "</thead>\n",
              "<tbody>\n",
              "\t<tr><th scope=row>0</th><td>263 [ 7.58% ]  </td><td>7 [ 0.2% ] </td><td>270 [ 7.78% ]  </td></tr>\n",
              "\t<tr><th scope=row>1</th><td>3134 [ 90.32% ]</td><td>66 [ 1.9% ]</td><td>3200 [ 92.22% ]</td></tr>\n",
              "\t<tr><th scope=row>Total</th><td>3397 [ 97.9% ] </td><td>73 [ 2.1% ]</td><td>3470 [ 100% ]  </td></tr>\n",
              "</tbody>\n",
              "</table>\n",
              "</dd>\n",
              "\t<dt>$race</dt>\n",
              "\t\t<dd><table class=\"dataframe\">\n",
              "<caption>A data.frame: 4 × 3</caption>\n",
              "<thead>\n",
              "\t<tr><th></th><th scope=col>0</th><th scope=col>1</th><th scope=col>Total</th></tr>\n",
              "\t<tr><th></th><th scope=col>&lt;chr&gt;</th><th scope=col>&lt;chr&gt;</th><th scope=col>&lt;chr&gt;</th></tr>\n",
              "</thead>\n",
              "<tbody>\n",
              "\t<tr><th scope=row>1</th><td>1891 [ 54.5% ]</td><td>42 [ 1.21% ]</td><td>1933 [ 55.71% ]</td></tr>\n",
              "\t<tr><th scope=row>2</th><td>939 [ 27.06% ]</td><td>18 [ 0.52% ]</td><td>957 [ 27.58% ] </td></tr>\n",
              "\t<tr><th scope=row>3</th><td>567 [ 16.34% ]</td><td>13 [ 0.37% ]</td><td>580 [ 16.71% ] </td></tr>\n",
              "\t<tr><th scope=row>Total</th><td>3397 [ 97.9% ]</td><td>73 [ 2.1% ] </td><td>3470 [ 100% ]  </td></tr>\n",
              "</tbody>\n",
              "</table>\n",
              "</dd>\n",
              "\t<dt>$nsibs</dt>\n",
              "\t\t<dd><table class=\"dataframe\">\n",
              "<caption>A data.frame: 8 × 3</caption>\n",
              "<thead>\n",
              "\t<tr><th></th><th scope=col>0</th><th scope=col>1</th><th scope=col>Total</th></tr>\n",
              "\t<tr><th></th><th scope=col>&lt;chr&gt;</th><th scope=col>&lt;chr&gt;</th><th scope=col>&lt;chr&gt;</th></tr>\n",
              "</thead>\n",
              "<tbody>\n",
              "\t<tr><th scope=row>0</th><td>1774 [ 51.12% ]</td><td>27 [ 0.78% ]</td><td>1801 [ 51.9% ] </td></tr>\n",
              "\t<tr><th scope=row>1</th><td>1126 [ 32.45% ]</td><td>30 [ 0.86% ]</td><td>1156 [ 33.31% ]</td></tr>\n",
              "\t<tr><th scope=row>2</th><td>372 [ 10.72% ] </td><td>11 [ 0.32% ]</td><td>383 [ 11.04% ] </td></tr>\n",
              "\t<tr><th scope=row>3</th><td>97 [ 2.8% ]    </td><td>3 [ 0.09% ] </td><td>100 [ 2.88% ]  </td></tr>\n",
              "\t<tr><th scope=row>4</th><td>20 [ 0.58% ]   </td><td>2 [ 0.06% ] </td><td>22 [ 0.63% ]   </td></tr>\n",
              "\t<tr><th scope=row>5</th><td>7 [ 0.2% ]     </td><td>0 [ 0% ]    </td><td>7 [ 0.2% ]     </td></tr>\n",
              "\t<tr><th scope=row>6</th><td>1 [ 0.03% ]    </td><td>0 [ 0% ]    </td><td>1 [ 0.03% ]    </td></tr>\n",
              "\t<tr><th scope=row>Total</th><td>3397 [ 97.9% ] </td><td>73 [ 2.1% ] </td><td>3470 [ 100% ]  </td></tr>\n",
              "</tbody>\n",
              "</table>\n",
              "</dd>\n",
              "\t<dt>$education_cat</dt>\n",
              "\t\t<dd><table class=\"dataframe\">\n",
              "<caption>A data.frame: 5 × 3</caption>\n",
              "<thead>\n",
              "\t<tr><th></th><th scope=col>0</th><th scope=col>1</th><th scope=col>Total</th></tr>\n",
              "\t<tr><th></th><th scope=col>&lt;chr&gt;</th><th scope=col>&lt;chr&gt;</th><th scope=col>&lt;chr&gt;</th></tr>\n",
              "</thead>\n",
              "<tbody>\n",
              "\t<tr><th scope=row>(0,12]</th><td>2779 [ 80.11% ]</td><td>70 [ 2.02% ]</td><td>2849 [ 82.13% ]</td></tr>\n",
              "\t<tr><th scope=row>(12,16]</th><td>600 [ 17.3% ]  </td><td>3 [ 0.09% ] </td><td>603 [ 17.38% ] </td></tr>\n",
              "\t<tr><th scope=row>(16,18]</th><td>14 [ 0.4% ]    </td><td>0 [ 0% ]    </td><td>14 [ 0.4% ]    </td></tr>\n",
              "\t<tr><th scope=row>(18,19]</th><td>3 [ 0.09% ]    </td><td>0 [ 0% ]    </td><td>3 [ 0.09% ]    </td></tr>\n",
              "\t<tr><th scope=row>Total</th><td>3396 [ 97.9% ] </td><td>73 [ 2.1% ] </td><td>3469 [ 100% ]  </td></tr>\n",
              "</tbody>\n",
              "</table>\n",
              "</dd>\n",
              "</dl>\n"
            ]
          },
          "metadata": {}
        }
      ]
    },
    {
      "cell_type": "code",
      "metadata": {
        "colab": {
          "base_uri": "https://localhost:8080/",
          "height": 500
        },
        "id": "Z0bosKnhXLMC",
        "outputId": "f744f174-6915-4c47-cf8f-d3067bc11bbe"
      },
      "source": [
        "with(pneumon, freq(chldage))"
      ],
      "execution_count": null,
      "outputs": [
        {
          "output_type": "display_data",
          "data": {
            "text/plain": [
              "   chldage Freq Percentage\n",
              "1  0.5       84  2.420749 \n",
              "2  1        104  2.997118 \n",
              "3  2         98  2.824207 \n",
              "4  3         95  2.737752 \n",
              "5  4         96  2.766571 \n",
              "6  5        113  3.256484 \n",
              "7  6        101  2.910663 \n",
              "8  7         97  2.795389 \n",
              "9  8         97  2.795389 \n",
              "10 9         89  2.564841 \n",
              "11 10        78  2.247839 \n",
              "12 11        72  2.074928 \n",
              "13 12      2346 67.608069 "
            ],
            "text/latex": "A data.frame: 13 × 3\n\\begin{tabular}{lll}\n chldage & Freq & Percentage\\\\\n <fct> & <int> & <dbl>\\\\\n\\hline\n\t 0.5 &   84 &  2.420749\\\\\n\t 1   &  104 &  2.997118\\\\\n\t 2   &   98 &  2.824207\\\\\n\t 3   &   95 &  2.737752\\\\\n\t 4   &   96 &  2.766571\\\\\n\t 5   &  113 &  3.256484\\\\\n\t 6   &  101 &  2.910663\\\\\n\t 7   &   97 &  2.795389\\\\\n\t 8   &   97 &  2.795389\\\\\n\t 9   &   89 &  2.564841\\\\\n\t 10  &   78 &  2.247839\\\\\n\t 11  &   72 &  2.074928\\\\\n\t 12  & 2346 & 67.608069\\\\\n\\end{tabular}\n",
            "text/markdown": "\nA data.frame: 13 × 3\n\n| chldage &lt;fct&gt; | Freq &lt;int&gt; | Percentage &lt;dbl&gt; |\n|---|---|---|\n| 0.5 |   84 |  2.420749 |\n| 1   |  104 |  2.997118 |\n| 2   |   98 |  2.824207 |\n| 3   |   95 |  2.737752 |\n| 4   |   96 |  2.766571 |\n| 5   |  113 |  3.256484 |\n| 6   |  101 |  2.910663 |\n| 7   |   97 |  2.795389 |\n| 8   |   97 |  2.795389 |\n| 9   |   89 |  2.564841 |\n| 10  |   78 |  2.247839 |\n| 11  |   72 |  2.074928 |\n| 12  | 2346 | 67.608069 |\n\n",
            "text/html": [
              "<table class=\"dataframe\">\n",
              "<caption>A data.frame: 13 × 3</caption>\n",
              "<thead>\n",
              "\t<tr><th scope=col>chldage</th><th scope=col>Freq</th><th scope=col>Percentage</th></tr>\n",
              "\t<tr><th scope=col>&lt;fct&gt;</th><th scope=col>&lt;int&gt;</th><th scope=col>&lt;dbl&gt;</th></tr>\n",
              "</thead>\n",
              "<tbody>\n",
              "\t<tr><td>0.5</td><td>  84</td><td> 2.420749</td></tr>\n",
              "\t<tr><td>1  </td><td> 104</td><td> 2.997118</td></tr>\n",
              "\t<tr><td>2  </td><td>  98</td><td> 2.824207</td></tr>\n",
              "\t<tr><td>3  </td><td>  95</td><td> 2.737752</td></tr>\n",
              "\t<tr><td>4  </td><td>  96</td><td> 2.766571</td></tr>\n",
              "\t<tr><td>5  </td><td> 113</td><td> 3.256484</td></tr>\n",
              "\t<tr><td>6  </td><td> 101</td><td> 2.910663</td></tr>\n",
              "\t<tr><td>7  </td><td>  97</td><td> 2.795389</td></tr>\n",
              "\t<tr><td>8  </td><td>  97</td><td> 2.795389</td></tr>\n",
              "\t<tr><td>9  </td><td>  89</td><td> 2.564841</td></tr>\n",
              "\t<tr><td>10 </td><td>  78</td><td> 2.247839</td></tr>\n",
              "\t<tr><td>11 </td><td>  72</td><td> 2.074928</td></tr>\n",
              "\t<tr><td>12 </td><td>2346</td><td>67.608069</td></tr>\n",
              "</tbody>\n",
              "</table>\n"
            ]
          },
          "metadata": {}
        }
      ]
    },
    {
      "cell_type": "code",
      "metadata": {
        "colab": {
          "base_uri": "https://localhost:8080/",
          "height": 1000
        },
        "id": "wzfAa9EvY4Sx",
        "outputId": "e119d1f0-d817-4389-b2ca-905c408b2fb7"
      },
      "source": [
        "with(pneumon, freq(wmonth))\n",
        "pneumon$wmonth_cat = ifelse(pneumon$wmonth > 0, 1,0)\n",
        "with(pneumon, freq(wmonth_cat))"
      ],
      "execution_count": null,
      "outputs": [
        {
          "output_type": "display_data",
          "data": {
            "text/plain": [
              "   wmonth Freq Percentage \n",
              "1  0      2036 58.67435159\n",
              "2  1       398 11.46974063\n",
              "3  2       228  6.57060519\n",
              "4  3       179  5.15850144\n",
              "5  4       117  3.37175793\n",
              "6  5        60  1.72910663\n",
              "7  6        96  2.76657061\n",
              "8  7        51  1.46974063\n",
              "9  8        49  1.41210375\n",
              "10 9        57  1.64265130\n",
              "11 10       35  1.00864553\n",
              "12 11       18  0.51873199\n",
              "13 12       49  1.41210375\n",
              "14 13       44  1.26801153\n",
              "15 14        8  0.23054755\n",
              "16 15        7  0.20172911\n",
              "17 16        3  0.08645533\n",
              "18 17       10  0.28818444\n",
              "19 18        5  0.14409222\n",
              "20 19        3  0.08645533\n",
              "21 20        1  0.02881844\n",
              "22 22        1  0.02881844\n",
              "23 23       12  0.34582133\n",
              "24 24        1  0.02881844\n",
              "25 25        1  0.02881844\n",
              "26 28        1  0.02881844"
            ],
            "text/latex": "A data.frame: 26 × 3\n\\begin{tabular}{lll}\n wmonth & Freq & Percentage\\\\\n <fct> & <int> & <dbl>\\\\\n\\hline\n\t 0  & 2036 & 58.67435159\\\\\n\t 1  &  398 & 11.46974063\\\\\n\t 2  &  228 &  6.57060519\\\\\n\t 3  &  179 &  5.15850144\\\\\n\t 4  &  117 &  3.37175793\\\\\n\t 5  &   60 &  1.72910663\\\\\n\t 6  &   96 &  2.76657061\\\\\n\t 7  &   51 &  1.46974063\\\\\n\t 8  &   49 &  1.41210375\\\\\n\t 9  &   57 &  1.64265130\\\\\n\t 10 &   35 &  1.00864553\\\\\n\t 11 &   18 &  0.51873199\\\\\n\t 12 &   49 &  1.41210375\\\\\n\t 13 &   44 &  1.26801153\\\\\n\t 14 &    8 &  0.23054755\\\\\n\t 15 &    7 &  0.20172911\\\\\n\t 16 &    3 &  0.08645533\\\\\n\t 17 &   10 &  0.28818444\\\\\n\t 18 &    5 &  0.14409222\\\\\n\t 19 &    3 &  0.08645533\\\\\n\t 20 &    1 &  0.02881844\\\\\n\t 22 &    1 &  0.02881844\\\\\n\t 23 &   12 &  0.34582133\\\\\n\t 24 &    1 &  0.02881844\\\\\n\t 25 &    1 &  0.02881844\\\\\n\t 28 &    1 &  0.02881844\\\\\n\\end{tabular}\n",
            "text/markdown": "\nA data.frame: 26 × 3\n\n| wmonth &lt;fct&gt; | Freq &lt;int&gt; | Percentage &lt;dbl&gt; |\n|---|---|---|\n| 0  | 2036 | 58.67435159 |\n| 1  |  398 | 11.46974063 |\n| 2  |  228 |  6.57060519 |\n| 3  |  179 |  5.15850144 |\n| 4  |  117 |  3.37175793 |\n| 5  |   60 |  1.72910663 |\n| 6  |   96 |  2.76657061 |\n| 7  |   51 |  1.46974063 |\n| 8  |   49 |  1.41210375 |\n| 9  |   57 |  1.64265130 |\n| 10 |   35 |  1.00864553 |\n| 11 |   18 |  0.51873199 |\n| 12 |   49 |  1.41210375 |\n| 13 |   44 |  1.26801153 |\n| 14 |    8 |  0.23054755 |\n| 15 |    7 |  0.20172911 |\n| 16 |    3 |  0.08645533 |\n| 17 |   10 |  0.28818444 |\n| 18 |    5 |  0.14409222 |\n| 19 |    3 |  0.08645533 |\n| 20 |    1 |  0.02881844 |\n| 22 |    1 |  0.02881844 |\n| 23 |   12 |  0.34582133 |\n| 24 |    1 |  0.02881844 |\n| 25 |    1 |  0.02881844 |\n| 28 |    1 |  0.02881844 |\n\n",
            "text/html": [
              "<table class=\"dataframe\">\n",
              "<caption>A data.frame: 26 × 3</caption>\n",
              "<thead>\n",
              "\t<tr><th scope=col>wmonth</th><th scope=col>Freq</th><th scope=col>Percentage</th></tr>\n",
              "\t<tr><th scope=col>&lt;fct&gt;</th><th scope=col>&lt;int&gt;</th><th scope=col>&lt;dbl&gt;</th></tr>\n",
              "</thead>\n",
              "<tbody>\n",
              "\t<tr><td>0 </td><td>2036</td><td>58.67435159</td></tr>\n",
              "\t<tr><td>1 </td><td> 398</td><td>11.46974063</td></tr>\n",
              "\t<tr><td>2 </td><td> 228</td><td> 6.57060519</td></tr>\n",
              "\t<tr><td>3 </td><td> 179</td><td> 5.15850144</td></tr>\n",
              "\t<tr><td>4 </td><td> 117</td><td> 3.37175793</td></tr>\n",
              "\t<tr><td>5 </td><td>  60</td><td> 1.72910663</td></tr>\n",
              "\t<tr><td>6 </td><td>  96</td><td> 2.76657061</td></tr>\n",
              "\t<tr><td>7 </td><td>  51</td><td> 1.46974063</td></tr>\n",
              "\t<tr><td>8 </td><td>  49</td><td> 1.41210375</td></tr>\n",
              "\t<tr><td>9 </td><td>  57</td><td> 1.64265130</td></tr>\n",
              "\t<tr><td>10</td><td>  35</td><td> 1.00864553</td></tr>\n",
              "\t<tr><td>11</td><td>  18</td><td> 0.51873199</td></tr>\n",
              "\t<tr><td>12</td><td>  49</td><td> 1.41210375</td></tr>\n",
              "\t<tr><td>13</td><td>  44</td><td> 1.26801153</td></tr>\n",
              "\t<tr><td>14</td><td>   8</td><td> 0.23054755</td></tr>\n",
              "\t<tr><td>15</td><td>   7</td><td> 0.20172911</td></tr>\n",
              "\t<tr><td>16</td><td>   3</td><td> 0.08645533</td></tr>\n",
              "\t<tr><td>17</td><td>  10</td><td> 0.28818444</td></tr>\n",
              "\t<tr><td>18</td><td>   5</td><td> 0.14409222</td></tr>\n",
              "\t<tr><td>19</td><td>   3</td><td> 0.08645533</td></tr>\n",
              "\t<tr><td>20</td><td>   1</td><td> 0.02881844</td></tr>\n",
              "\t<tr><td>22</td><td>   1</td><td> 0.02881844</td></tr>\n",
              "\t<tr><td>23</td><td>  12</td><td> 0.34582133</td></tr>\n",
              "\t<tr><td>24</td><td>   1</td><td> 0.02881844</td></tr>\n",
              "\t<tr><td>25</td><td>   1</td><td> 0.02881844</td></tr>\n",
              "\t<tr><td>28</td><td>   1</td><td> 0.02881844</td></tr>\n",
              "</tbody>\n",
              "</table>\n"
            ]
          },
          "metadata": {}
        },
        {
          "output_type": "display_data",
          "data": {
            "text/plain": [
              "  wmonth_cat Freq Percentage\n",
              "1 0          2036 58.67435  \n",
              "2 1          1434 41.32565  "
            ],
            "text/latex": "A data.frame: 2 × 3\n\\begin{tabular}{lll}\n wmonth\\_cat & Freq & Percentage\\\\\n <fct> & <int> & <dbl>\\\\\n\\hline\n\t 0 & 2036 & 58.67435\\\\\n\t 1 & 1434 & 41.32565\\\\\n\\end{tabular}\n",
            "text/markdown": "\nA data.frame: 2 × 3\n\n| wmonth_cat &lt;fct&gt; | Freq &lt;int&gt; | Percentage &lt;dbl&gt; |\n|---|---|---|\n| 0 | 2036 | 58.67435 |\n| 1 | 1434 | 41.32565 |\n\n",
            "text/html": [
              "<table class=\"dataframe\">\n",
              "<caption>A data.frame: 2 × 3</caption>\n",
              "<thead>\n",
              "\t<tr><th scope=col>wmonth_cat</th><th scope=col>Freq</th><th scope=col>Percentage</th></tr>\n",
              "\t<tr><th scope=col>&lt;fct&gt;</th><th scope=col>&lt;int&gt;</th><th scope=col>&lt;dbl&gt;</th></tr>\n",
              "</thead>\n",
              "<tbody>\n",
              "\t<tr><td>0</td><td>2036</td><td>58.67435</td></tr>\n",
              "\t<tr><td>1</td><td>1434</td><td>41.32565</td></tr>\n",
              "</tbody>\n",
              "</table>\n"
            ]
          },
          "metadata": {}
        }
      ]
    },
    {
      "cell_type": "code",
      "metadata": {
        "colab": {
          "base_uri": "https://localhost:8080/",
          "height": 179
        },
        "id": "RBCML4ky4Di0",
        "outputId": "46354a82-468d-4dc5-bebc-c389c97dd268"
      },
      "source": [
        "pneumon$hospital = factor(pneumon$hospital) %>% as.numeric()\n",
        "head(pneumon,2)"
      ],
      "execution_count": null,
      "outputs": [
        {
          "output_type": "display_data",
          "data": {
            "text/plain": [
              "  chldage hospital mthage urban alcohol smoke region poverty bweight race\n",
              "1 12      1        22     1     0       0     1      1       1       1   \n",
              "2 12      1        20     1     1       0     1      1       0       1   \n",
              "  education nsibs wmonth sfmonth agepn education_cat wmonth_cat\n",
              "1 10        1     1      1        1    (0,12]        1         \n",
              "2 12        1     2      2       12    (0,12]        1         "
            ],
            "text/latex": "A data.frame: 2 × 17\n\\begin{tabular}{r|lllllllllllllllll}\n  & chldage & hospital & mthage & urban & alcohol & smoke & region & poverty & bweight & race & education & nsibs & wmonth & sfmonth & agepn & education\\_cat & wmonth\\_cat\\\\\n  & <dbl> & <dbl> & <int> & <fct> & <fct> & <fct> & <fct> & <fct> & <int> & <fct> & <int> & <fct> & <int> & <int> & <int> & <fct> & <dbl>\\\\\n\\hline\n\t1 & 12 & 1 & 22 & 1 & 0 & 0 & 1 & 1 & 1 & 1 & 10 & 1 & 1 & 1 &  1 & (0,12{]} & 1\\\\\n\t2 & 12 & 1 & 20 & 1 & 1 & 0 & 1 & 1 & 0 & 1 & 12 & 1 & 2 & 2 & 12 & (0,12{]} & 1\\\\\n\\end{tabular}\n",
            "text/markdown": "\nA data.frame: 2 × 17\n\n| <!--/--> | chldage &lt;dbl&gt; | hospital &lt;dbl&gt; | mthage &lt;int&gt; | urban &lt;fct&gt; | alcohol &lt;fct&gt; | smoke &lt;fct&gt; | region &lt;fct&gt; | poverty &lt;fct&gt; | bweight &lt;int&gt; | race &lt;fct&gt; | education &lt;int&gt; | nsibs &lt;fct&gt; | wmonth &lt;int&gt; | sfmonth &lt;int&gt; | agepn &lt;int&gt; | education_cat &lt;fct&gt; | wmonth_cat &lt;dbl&gt; |\n|---|---|---|---|---|---|---|---|---|---|---|---|---|---|---|---|---|---|\n| 1 | 12 | 1 | 22 | 1 | 0 | 0 | 1 | 1 | 1 | 1 | 10 | 1 | 1 | 1 |  1 | (0,12] | 1 |\n| 2 | 12 | 1 | 20 | 1 | 1 | 0 | 1 | 1 | 0 | 1 | 12 | 1 | 2 | 2 | 12 | (0,12] | 1 |\n\n",
            "text/html": [
              "<table class=\"dataframe\">\n",
              "<caption>A data.frame: 2 × 17</caption>\n",
              "<thead>\n",
              "\t<tr><th></th><th scope=col>chldage</th><th scope=col>hospital</th><th scope=col>mthage</th><th scope=col>urban</th><th scope=col>alcohol</th><th scope=col>smoke</th><th scope=col>region</th><th scope=col>poverty</th><th scope=col>bweight</th><th scope=col>race</th><th scope=col>education</th><th scope=col>nsibs</th><th scope=col>wmonth</th><th scope=col>sfmonth</th><th scope=col>agepn</th><th scope=col>education_cat</th><th scope=col>wmonth_cat</th></tr>\n",
              "\t<tr><th></th><th scope=col>&lt;dbl&gt;</th><th scope=col>&lt;dbl&gt;</th><th scope=col>&lt;int&gt;</th><th scope=col>&lt;fct&gt;</th><th scope=col>&lt;fct&gt;</th><th scope=col>&lt;fct&gt;</th><th scope=col>&lt;fct&gt;</th><th scope=col>&lt;fct&gt;</th><th scope=col>&lt;int&gt;</th><th scope=col>&lt;fct&gt;</th><th scope=col>&lt;int&gt;</th><th scope=col>&lt;fct&gt;</th><th scope=col>&lt;int&gt;</th><th scope=col>&lt;int&gt;</th><th scope=col>&lt;int&gt;</th><th scope=col>&lt;fct&gt;</th><th scope=col>&lt;dbl&gt;</th></tr>\n",
              "</thead>\n",
              "<tbody>\n",
              "\t<tr><th scope=row>1</th><td>12</td><td>1</td><td>22</td><td>1</td><td>0</td><td>0</td><td>1</td><td>1</td><td>1</td><td>1</td><td>10</td><td>1</td><td>1</td><td>1</td><td> 1</td><td>(0,12]</td><td>1</td></tr>\n",
              "\t<tr><th scope=row>2</th><td>12</td><td>1</td><td>20</td><td>1</td><td>1</td><td>0</td><td>1</td><td>1</td><td>0</td><td>1</td><td>12</td><td>1</td><td>2</td><td>2</td><td>12</td><td>(0,12]</td><td>1</td></tr>\n",
              "</tbody>\n",
              "</table>\n"
            ]
          },
          "metadata": {}
        }
      ]
    },
    {
      "cell_type": "code",
      "metadata": {
        "colab": {
          "base_uri": "https://localhost:8080/",
          "height": 68
        },
        "id": "qjEa1-B0447A",
        "outputId": "e3aa0be8-1d67-4b37-bdf1-13bb44e0e1c3"
      },
      "source": [
        "table(pneumon$hospital)"
      ],
      "execution_count": null,
      "outputs": [
        {
          "output_type": "display_data",
          "data": {
            "text/plain": [
              "\n",
              "   1    2 \n",
              "3397   73 "
            ]
          },
          "metadata": {}
        }
      ]
    },
    {
      "cell_type": "code",
      "metadata": {
        "colab": {
          "base_uri": "https://localhost:8080/",
          "height": 306
        },
        "id": "0vVXzKE517Se",
        "outputId": "88725ff1-20c3-4ce5-cb36-fab8be28cf52"
      },
      "source": [
        "survival =  Surv(pneumon$chldage, pneumon$hospital)\n",
        "cox_model_1 = coxph(survival ~ wmonth_cat, data = pneumon)\n",
        "cox_model_1 %>% summary()"
      ],
      "execution_count": null,
      "outputs": [
        {
          "output_type": "display_data",
          "data": {
            "text/plain": [
              "Call:\n",
              "coxph(formula = survival ~ wmonth_cat, data = pneumon)\n",
              "\n",
              "  n= 3470, number of events= 73 \n",
              "\n",
              "              coef exp(coef) se(coef)     z Pr(>|z|)    \n",
              "wmonth_cat -1.0970    0.3339   0.2973 -3.69 0.000224 ***\n",
              "---\n",
              "Signif. codes:  0 ‘***’ 0.001 ‘**’ 0.01 ‘*’ 0.05 ‘.’ 0.1 ‘ ’ 1\n",
              "\n",
              "           exp(coef) exp(-coef) lower .95 upper .95\n",
              "wmonth_cat    0.3339      2.995    0.1864    0.5979\n",
              "\n",
              "Concordance= 0.614  (se = 0.023 )\n",
              "Likelihood ratio test= 16.59  on 1 df,   p=5e-05\n",
              "Wald test            = 13.62  on 1 df,   p=2e-04\n",
              "Score (logrank) test = 15.04  on 1 df,   p=1e-04\n"
            ]
          },
          "metadata": {}
        }
      ]
    },
    {
      "cell_type": "code",
      "metadata": {
        "id": "yxnhCpTbeyW_"
      },
      "source": [
        "rmarkdown:::convert_ipynb(\"BST_222_Final_Project_[Exploratory_Data_Analysis]-2.ipynb\")"
      ],
      "execution_count": null,
      "outputs": []
    }
  ]
}