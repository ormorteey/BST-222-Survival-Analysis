{
  "nbformat": 4,
  "nbformat_minor": 0,
  "metadata": {
    "colab": {
      "name": "BST 222 HW1.ipynb",
      "provenance": [],
      "authorship_tag": "ABX9TyOCwHJLJXVhnof+HIRVvN+H",
      "include_colab_link": true
    },
    "kernelspec": {
      "name": "ir",
      "display_name": "R"
    },
    "language_info": {
      "name": "R"
    }
  },
  "cells": [
    {
      "cell_type": "markdown",
      "metadata": {
        "id": "view-in-github",
        "colab_type": "text"
      },
      "source": [
        "<a href=\"https://colab.research.google.com/github/ormorteey/BST-222-Survival-Analysis/blob/main/BST_222_HW1.ipynb\" target=\"_parent\"><img src=\"https://colab.research.google.com/assets/colab-badge.svg\" alt=\"Open In Colab\"/></a>"
      ]
    },
    {
      "cell_type": "code",
      "metadata": {
        "colab": {
          "base_uri": "https://localhost:8080/",
          "height": 394
        },
        "id": "sS5-zhVp-GWH",
        "outputId": "31166457-d98b-454b-ee5f-5c57fe32e3c0"
      },
      "source": [
        "n = 1:1000\n",
        "res_df = data.frame(id = n, res = qpois(0.05, 0.2 * n , lower.tail = F))\n",
        "head(res_df, 2)\n",
        "res_df[which(res_df$res == 30),]"
      ],
      "execution_count": 18,
      "outputs": [
        {
          "output_type": "display_data",
          "data": {
            "text/plain": [
              "  id res\n",
              "1 1  1  \n",
              "2 2  2  "
            ],
            "text/latex": "A data.frame: 2 × 2\n\\begin{tabular}{r|ll}\n  & id & res\\\\\n  & <int> & <dbl>\\\\\n\\hline\n\t1 & 1 & 1\\\\\n\t2 & 2 & 2\\\\\n\\end{tabular}\n",
            "text/markdown": "\nA data.frame: 2 × 2\n\n| <!--/--> | id &lt;int&gt; | res &lt;dbl&gt; |\n|---|---|---|\n| 1 | 1 | 1 |\n| 2 | 2 | 2 |\n\n",
            "text/html": [
              "<table class=\"dataframe\">\n",
              "<caption>A data.frame: 2 × 2</caption>\n",
              "<thead>\n",
              "\t<tr><th></th><th scope=col>id</th><th scope=col>res</th></tr>\n",
              "\t<tr><th></th><th scope=col>&lt;int&gt;</th><th scope=col>&lt;dbl&gt;</th></tr>\n",
              "</thead>\n",
              "<tbody>\n",
              "\t<tr><th scope=row>1</th><td>1</td><td>1</td></tr>\n",
              "\t<tr><th scope=row>2</th><td>2</td><td>2</td></tr>\n",
              "</tbody>\n",
              "</table>\n"
            ]
          },
          "metadata": {}
        },
        {
          "output_type": "display_data",
          "data": {
            "text/plain": [
              "    id  res\n",
              "108 108 30 \n",
              "109 109 30 \n",
              "110 110 30 \n",
              "111 111 30 \n",
              "112 112 30 "
            ],
            "text/latex": "A data.frame: 5 × 2\n\\begin{tabular}{r|ll}\n  & id & res\\\\\n  & <int> & <dbl>\\\\\n\\hline\n\t108 & 108 & 30\\\\\n\t109 & 109 & 30\\\\\n\t110 & 110 & 30\\\\\n\t111 & 111 & 30\\\\\n\t112 & 112 & 30\\\\\n\\end{tabular}\n",
            "text/markdown": "\nA data.frame: 5 × 2\n\n| <!--/--> | id &lt;int&gt; | res &lt;dbl&gt; |\n|---|---|---|\n| 108 | 108 | 30 |\n| 109 | 109 | 30 |\n| 110 | 110 | 30 |\n| 111 | 111 | 30 |\n| 112 | 112 | 30 |\n\n",
            "text/html": [
              "<table class=\"dataframe\">\n",
              "<caption>A data.frame: 5 × 2</caption>\n",
              "<thead>\n",
              "\t<tr><th></th><th scope=col>id</th><th scope=col>res</th></tr>\n",
              "\t<tr><th></th><th scope=col>&lt;int&gt;</th><th scope=col>&lt;dbl&gt;</th></tr>\n",
              "</thead>\n",
              "<tbody>\n",
              "\t<tr><th scope=row>108</th><td>108</td><td>30</td></tr>\n",
              "\t<tr><th scope=row>109</th><td>109</td><td>30</td></tr>\n",
              "\t<tr><th scope=row>110</th><td>110</td><td>30</td></tr>\n",
              "\t<tr><th scope=row>111</th><td>111</td><td>30</td></tr>\n",
              "\t<tr><th scope=row>112</th><td>112</td><td>30</td></tr>\n",
              "</tbody>\n",
              "</table>\n"
            ]
          },
          "metadata": {}
        }
      ]
    },
    {
      "cell_type": "code",
      "metadata": {
        "colab": {
          "base_uri": "https://localhost:8080/",
          "height": 270
        },
        "id": "qLrm9wA_-2vs",
        "outputId": "a700912a-dcb7-4533-9b91-18cc603ff512"
      },
      "source": [
        "n = 1:1000\n",
        "res_df = data.frame(id = n, res = ppois(30, 0.2 * n , lower.tail = F))\n",
        "head(res_df, 2)\n",
        "res_df[which(res_df$res >= 0.048 & res_df$res <= 0.052),]"
      ],
      "execution_count": 42,
      "outputs": [
        {
          "output_type": "display_data",
          "data": {
            "text/plain": [
              "  id res         \n",
              "1 1  2.151650e-56\n",
              "2 2  3.806983e-47"
            ],
            "text/latex": "A data.frame: 2 × 2\n\\begin{tabular}{r|ll}\n  & id & res\\\\\n  & <int> & <dbl>\\\\\n\\hline\n\t1 & 1 & 2.151650e-56\\\\\n\t2 & 2 & 3.806983e-47\\\\\n\\end{tabular}\n",
            "text/markdown": "\nA data.frame: 2 × 2\n\n| <!--/--> | id &lt;int&gt; | res &lt;dbl&gt; |\n|---|---|---|\n| 1 | 1 | 2.151650e-56 |\n| 2 | 2 | 3.806983e-47 |\n\n",
            "text/html": [
              "<table class=\"dataframe\">\n",
              "<caption>A data.frame: 2 × 2</caption>\n",
              "<thead>\n",
              "\t<tr><th></th><th scope=col>id</th><th scope=col>res</th></tr>\n",
              "\t<tr><th></th><th scope=col>&lt;int&gt;</th><th scope=col>&lt;dbl&gt;</th></tr>\n",
              "</thead>\n",
              "<tbody>\n",
              "\t<tr><th scope=row>1</th><td>1</td><td>2.151650e-56</td></tr>\n",
              "\t<tr><th scope=row>2</th><td>2</td><td>3.806983e-47</td></tr>\n",
              "</tbody>\n",
              "</table>\n"
            ]
          },
          "metadata": {}
        },
        {
          "output_type": "display_data",
          "data": {
            "text/plain": [
              "    id  res       \n",
              "112 112 0.04898297"
            ],
            "text/latex": "A data.frame: 1 × 2\n\\begin{tabular}{r|ll}\n  & id & res\\\\\n  & <int> & <dbl>\\\\\n\\hline\n\t112 & 112 & 0.04898297\\\\\n\\end{tabular}\n",
            "text/markdown": "\nA data.frame: 1 × 2\n\n| <!--/--> | id &lt;int&gt; | res &lt;dbl&gt; |\n|---|---|---|\n| 112 | 112 | 0.04898297 |\n\n",
            "text/html": [
              "<table class=\"dataframe\">\n",
              "<caption>A data.frame: 1 × 2</caption>\n",
              "<thead>\n",
              "\t<tr><th></th><th scope=col>id</th><th scope=col>res</th></tr>\n",
              "\t<tr><th></th><th scope=col>&lt;int&gt;</th><th scope=col>&lt;dbl&gt;</th></tr>\n",
              "</thead>\n",
              "<tbody>\n",
              "\t<tr><th scope=row>112</th><td>112</td><td>0.04898297</td></tr>\n",
              "</tbody>\n",
              "</table>\n"
            ]
          },
          "metadata": {}
        }
      ]
    },
    {
      "cell_type": "code",
      "metadata": {
        "colab": {
          "base_uri": "https://localhost:8080/",
          "height": 567
        },
        "id": "3InUwHDT_xWb",
        "outputId": "794174fe-ae99-4c75-b8ab-82bea16c7e3c"
      },
      "source": [
        "\n",
        "n = 1:1000\n",
        "res_df = data.frame(id = n, res = pgamma(1,30,0.2*n, lower.tail = F))\n",
        "head(res_df, 2)\n",
        "res_df[which(res_df$res >= 0.95 & res_df$res <= 0.96),]\n",
        "res_df[c(104:109),]"
      ],
      "execution_count": 41,
      "outputs": [
        {
          "output_type": "display_data",
          "data": {
            "text/plain": [
              "  id res\n",
              "1 1  1  \n",
              "2 2  1  "
            ],
            "text/latex": "A data.frame: 2 × 2\n\\begin{tabular}{r|ll}\n  & id & res\\\\\n  & <int> & <dbl>\\\\\n\\hline\n\t1 & 1 & 1\\\\\n\t2 & 2 & 1\\\\\n\\end{tabular}\n",
            "text/markdown": "\nA data.frame: 2 × 2\n\n| <!--/--> | id &lt;int&gt; | res &lt;dbl&gt; |\n|---|---|---|\n| 1 | 1 | 1 |\n| 2 | 2 | 1 |\n\n",
            "text/html": [
              "<table class=\"dataframe\">\n",
              "<caption>A data.frame: 2 × 2</caption>\n",
              "<thead>\n",
              "\t<tr><th></th><th scope=col>id</th><th scope=col>res</th></tr>\n",
              "\t<tr><th></th><th scope=col>&lt;int&gt;</th><th scope=col>&lt;dbl&gt;</th></tr>\n",
              "</thead>\n",
              "<tbody>\n",
              "\t<tr><th scope=row>1</th><td>1</td><td>1</td></tr>\n",
              "\t<tr><th scope=row>2</th><td>2</td><td>1</td></tr>\n",
              "</tbody>\n",
              "</table>\n"
            ]
          },
          "metadata": {}
        },
        {
          "output_type": "display_data",
          "data": {
            "text/plain": [
              "    id  res      \n",
              "106 106 0.9586446\n",
              "107 107 0.9544074"
            ],
            "text/latex": "A data.frame: 2 × 2\n\\begin{tabular}{r|ll}\n  & id & res\\\\\n  & <int> & <dbl>\\\\\n\\hline\n\t106 & 106 & 0.9586446\\\\\n\t107 & 107 & 0.9544074\\\\\n\\end{tabular}\n",
            "text/markdown": "\nA data.frame: 2 × 2\n\n| <!--/--> | id &lt;int&gt; | res &lt;dbl&gt; |\n|---|---|---|\n| 106 | 106 | 0.9586446 |\n| 107 | 107 | 0.9544074 |\n\n",
            "text/html": [
              "<table class=\"dataframe\">\n",
              "<caption>A data.frame: 2 × 2</caption>\n",
              "<thead>\n",
              "\t<tr><th></th><th scope=col>id</th><th scope=col>res</th></tr>\n",
              "\t<tr><th></th><th scope=col>&lt;int&gt;</th><th scope=col>&lt;dbl&gt;</th></tr>\n",
              "</thead>\n",
              "<tbody>\n",
              "\t<tr><th scope=row>106</th><td>106</td><td>0.9586446</td></tr>\n",
              "\t<tr><th scope=row>107</th><td>107</td><td>0.9544074</td></tr>\n",
              "</tbody>\n",
              "</table>\n"
            ]
          },
          "metadata": {}
        },
        {
          "output_type": "display_data",
          "data": {
            "text/plain": [
              "    id  res      \n",
              "104 104 0.9662291\n",
              "105 105 0.9625812\n",
              "106 106 0.9586446\n",
              "107 107 0.9544074\n",
              "108 108 0.9498584\n",
              "109 109 0.9449868"
            ],
            "text/latex": "A data.frame: 6 × 2\n\\begin{tabular}{r|ll}\n  & id & res\\\\\n  & <int> & <dbl>\\\\\n\\hline\n\t104 & 104 & 0.9662291\\\\\n\t105 & 105 & 0.9625812\\\\\n\t106 & 106 & 0.9586446\\\\\n\t107 & 107 & 0.9544074\\\\\n\t108 & 108 & 0.9498584\\\\\n\t109 & 109 & 0.9449868\\\\\n\\end{tabular}\n",
            "text/markdown": "\nA data.frame: 6 × 2\n\n| <!--/--> | id &lt;int&gt; | res &lt;dbl&gt; |\n|---|---|---|\n| 104 | 104 | 0.9662291 |\n| 105 | 105 | 0.9625812 |\n| 106 | 106 | 0.9586446 |\n| 107 | 107 | 0.9544074 |\n| 108 | 108 | 0.9498584 |\n| 109 | 109 | 0.9449868 |\n\n",
            "text/html": [
              "<table class=\"dataframe\">\n",
              "<caption>A data.frame: 6 × 2</caption>\n",
              "<thead>\n",
              "\t<tr><th></th><th scope=col>id</th><th scope=col>res</th></tr>\n",
              "\t<tr><th></th><th scope=col>&lt;int&gt;</th><th scope=col>&lt;dbl&gt;</th></tr>\n",
              "</thead>\n",
              "<tbody>\n",
              "\t<tr><th scope=row>104</th><td>104</td><td>0.9662291</td></tr>\n",
              "\t<tr><th scope=row>105</th><td>105</td><td>0.9625812</td></tr>\n",
              "\t<tr><th scope=row>106</th><td>106</td><td>0.9586446</td></tr>\n",
              "\t<tr><th scope=row>107</th><td>107</td><td>0.9544074</td></tr>\n",
              "\t<tr><th scope=row>108</th><td>108</td><td>0.9498584</td></tr>\n",
              "\t<tr><th scope=row>109</th><td>109</td><td>0.9449868</td></tr>\n",
              "</tbody>\n",
              "</table>\n"
            ]
          },
          "metadata": {}
        }
      ]
    }
  ]
}